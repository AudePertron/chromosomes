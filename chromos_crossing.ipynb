{
  "nbformat": 4,
  "nbformat_minor": 0,
  "metadata": {
    "colab": {
      "name": "chromos_crossing.ipynb",
      "provenance": [],
      "collapsed_sections": [],
      "authorship_tag": "ABX9TyMcXDT7kMUcZpSSM7sVPnkr",
      "include_colab_link": true
    },
    "kernelspec": {
      "name": "python3",
      "display_name": "Python 3"
    },
    "language_info": {
      "name": "python"
    },
    "accelerator": "GPU"
  },
  "cells": [
    {
      "cell_type": "markdown",
      "metadata": {
        "id": "view-in-github",
        "colab_type": "text"
      },
      "source": [
        "<a href=\"https://colab.research.google.com/github/AudePertron/chromosomes/blob/main/chromos_crossing.ipynb\" target=\"_parent\"><img src=\"https://colab.research.google.com/assets/colab-badge.svg\" alt=\"Open In Colab\"/></a>"
      ]
    },
    {
      "cell_type": "code",
      "metadata": {
        "colab": {
          "base_uri": "https://localhost:8080/"
        },
        "id": "nrvN5tjOQiz6",
        "outputId": "ce33b810-8856-4e09-a221-ba99e4ca9a7d"
      },
      "source": [
        "#mount google drive\n",
        "from google.colab import drive\n",
        "drive.mount('/content/gdrive', force_remount=True)"
      ],
      "execution_count": null,
      "outputs": [
        {
          "output_type": "stream",
          "text": [
            "Mounted at /content/gdrive\n"
          ],
          "name": "stdout"
        }
      ]
    },
    {
      "cell_type": "code",
      "metadata": {
        "colab": {
          "base_uri": "https://localhost:8080/"
        },
        "id": "QhKbA6Q1Qnkr",
        "outputId": "55fc7212-a2da-4f7e-c715-838c43264e4f"
      },
      "source": [
        "cd gdrive/MyDrive/chromos/base_donnees/ChromSeg/region-guided\\ UNet++\n",
        "ls"
      ],
      "execution_count": null,
      "outputs": [
        {
          "output_type": "stream",
          "text": [
            "/content/gdrive/MyDrive/chromos/base_donnees/ChromSeg/region-guided UNet++\n"
          ],
          "name": "stdout"
        }
      ]
    },
    {
      "cell_type": "code",
      "metadata": {
        "id": "noLSEbJXVsFf"
      },
      "source": [
        "#loss.py\n",
        "import torch\n",
        "import torch.nn as nn\n",
        "import torch.nn.functional as F\n",
        "\n",
        "from torchvision.transforms import transforms\n",
        "import torch.nn.functional as F\n",
        "from torch.autograd import Variable\n",
        "import torch\n",
        "from torch.utils.data import DataLoader\n",
        "from torch import nn, optim\n",
        "from torchvision.transforms import transforms\n",
        "from torch.utils.data import Dataset\n",
        "import PIL.Image as Image\n",
        "import os\n",
        "import matplotlib.pyplot as plt\n",
        "import cv2\n",
        "import numpy as np\n",
        "import math\n",
        "\n",
        "import torch\n",
        "from torch import nn\n",
        "from torchvision.transforms import transforms\n",
        "import torchvision.models as models\n",
        "\n",
        "import torch\n",
        "from torch.utils.data import DataLoader\n",
        "from torch import nn, optim\n",
        "from torchvision.transforms import transforms\n",
        "from torch.utils.data import Dataset\n",
        "import torchvision.models as models\n",
        "import PIL.Image as Image\n",
        "import os\n",
        "import matplotlib.pyplot as plt\n",
        "import cv2\n",
        "import numpy as np\n",
        "import copy\n",
        "#from loss import *\n",
        "#from UNet_plus import UNet_plus2 as UNet_plus2\n",
        "#from utils import *\n",
        "import argparse\n",
        "import sys"
      ],
      "execution_count": null,
      "outputs": []
    },
    {
      "cell_type": "code",
      "metadata": {
        "colab": {
          "base_uri": "https://localhost:8080/"
        },
        "id": "M9TVTMOsLeEn",
        "outputId": "bd448129-103f-4df8-b572-51bcddcd8fcb"
      },
      "source": [
        "#check GPU\n",
        "from tensorflow.python.client import device_lib\n",
        "device_lib.list_local_devices()"
      ],
      "execution_count": null,
      "outputs": [
        {
          "output_type": "execute_result",
          "data": {
            "text/plain": [
              "[name: \"/device:CPU:0\"\n",
              " device_type: \"CPU\"\n",
              " memory_limit: 268435456\n",
              " locality {\n",
              " }\n",
              " incarnation: 8342392324163919912, name: \"/device:GPU:0\"\n",
              " device_type: \"GPU\"\n",
              " memory_limit: 11345264640\n",
              " locality {\n",
              "   bus_id: 1\n",
              "   links {\n",
              "   }\n",
              " }\n",
              " incarnation: 12732197337835394920\n",
              " physical_device_desc: \"device: 0, name: Tesla K80, pci bus id: 0000:00:04.0, compute capability: 3.7\"]"
            ]
          },
          "metadata": {},
          "execution_count": 5
        }
      ]
    },
    {
      "cell_type": "code",
      "metadata": {
        "id": "6TwFKBx8yv5w"
      },
      "source": [
        "#initialize model\n",
        "#Unet_plus.py\n",
        "\n",
        "import torch\n",
        "from torch import nn\n",
        "from torchvision.transforms import transforms\n",
        "import torchvision.models as models\n",
        "\n",
        "class DoubleConv(nn.Module):\n",
        "    # The convolutional layer: conv3-relu-conv3-relu\n",
        "    def __init__(self, in_ch, mid_ch, out_ch):\n",
        "        super(DoubleConv, self).__init__()\n",
        "        self.conv = nn.Sequential(\n",
        "            nn.Conv2d(in_ch, mid_ch, 3, padding=1),\n",
        "            nn.BatchNorm2d(mid_ch),\n",
        "            nn.ReLU(inplace=True),\n",
        "            nn.Conv2d(mid_ch, out_ch, 3, padding=1),\n",
        "            nn.BatchNorm2d(out_ch),\n",
        "            nn.ReLU(inplace=True)\n",
        "        )\n",
        "\n",
        "    def forward(self, input):\n",
        "        return self.conv(input)\n",
        "\n",
        "\n",
        "class UNet_plus2(nn.Module):\n",
        "    \n",
        "    def __init__(self, in_ch=3, out_ch=1):\n",
        "        super(UNet_plus2, self).__init__()\n",
        "        self.n_channels = in_ch\n",
        "        self.n_classes = out_ch\n",
        "        n1 = 64\n",
        "        filters = [n1, n1 * 2, n1 * 4, n1 * 8]\n",
        "\n",
        "        # Encoder: U-Net\n",
        "        #self.conv0_0 = nn.Sequential(\n",
        "        #    nn.Conv2d(in_ch, filters[0], kernel_size=7, stride=1, padding=3,\n",
        "        #         bias=False),\n",
        "        #    nn.BatchNorm2d(filters[0]),\n",
        "        #    nn.ReLU(inplace=True)\n",
        "        #)\n",
        "        self.conv0_0 = DoubleConv(self.n_channels, filters[0], filters[0])\n",
        "        self.pool = nn.MaxPool2d(kernel_size=3, stride=2, padding=0, ceil_mode=True)\n",
        "        self.conv1_0= DoubleConv(filters[0], filters[1], filters[1])\n",
        "        self.conv2_0= DoubleConv(filters[1], filters[2], filters[2])\n",
        "        self.conv3_0= DoubleConv(filters[2], filters[3], filters[3])\n",
        "\n",
        "        # Upsample layer(Deconv)\n",
        "        self.up1_0 = nn.ConvTranspose2d(filters[1], filters[0], 2, stride=2)\n",
        "        self.up2_0 = nn.ConvTranspose2d(filters[2], filters[1], 2, stride=2)\n",
        "        self.up3_0 = nn.ConvTranspose2d(filters[3], filters[2], 2, stride=2)\n",
        "        self.up1_1 = nn.ConvTranspose2d(filters[1], filters[0], 2, stride=2)\n",
        "        self.up2_1 = nn.ConvTranspose2d(filters[2], filters[1], 2, stride=2)\n",
        "        self.up1_2 = nn.ConvTranspose2d(filters[1], filters[0], 2, stride=2)\n",
        "\n",
        "        # Mid Layer\n",
        "        self.conv0_1 = DoubleConv(filters[0]*2, filters[0], filters[0]) \n",
        "        self.conv1_1 = DoubleConv(filters[1]*2, filters[1], filters[1])\n",
        "        self.conv2_1 = DoubleConv(filters[2]*2, filters[2], filters[2])\n",
        "\n",
        "        self.conv0_2 = DoubleConv(filters[0]*2, filters[0], filters[0])\n",
        "        self.conv1_2 = DoubleConv(filters[1]*2, filters[1], filters[1])\n",
        "\n",
        "        self.conv0_3 = DoubleConv(filters[0]*2, filters[0], filters[0])\n",
        "\n",
        "        # attention\n",
        "        # self.attention0 = ContourAttention(filters[0])\n",
        "        # self.attention1 = ContourAttention(filters[1])\n",
        "        \n",
        "        self.contour = nn.Sequential(\n",
        "            nn.Conv2d(filters[0] * 2, filters[0], kernel_size=3, padding=1),\n",
        "            nn.BatchNorm2d(64),\n",
        "            nn.ReLU(inplace=True),\n",
        "            nn.Conv2d(filters[0], filters[0], kernel_size=3, padding=1),\n",
        "            nn.BatchNorm2d(64),\n",
        "            nn.ReLU(inplace=True),\n",
        "            nn.Conv2d(filters[0], out_ch, 1)\n",
        "        )\n",
        "        self.final = nn.Sequential(\n",
        "            nn.Conv2d(filters[0], filters[0], kernel_size=3, padding=1),\n",
        "            nn.BatchNorm2d(64),\n",
        "            nn.ReLU(inplace=True),\n",
        "            nn.Conv2d(filters[0], out_ch, 1)\n",
        "        )\n",
        "        self.sigmoid = nn.Sigmoid()\n",
        "\n",
        "    def forward(self, x):\n",
        "        x0_0 = self.conv0_0(x)\n",
        "        p = self.pool(x0_0)\n",
        "        x1_0 = self.conv1_0(p)\n",
        "        x2_0 = self.conv2_0(self.pool(x1_0))\n",
        "        x3_0 = self.conv3_0(self.pool(x2_0))\n",
        "\n",
        "        x0_1 = self.conv0_1(torch.cat([x0_0, self.up1_0(x1_0)], 1)) + x0_0\n",
        "        x1_1 = self.conv1_1(torch.cat([x1_0, self.up2_0(x2_0)], 1))\n",
        "        x2_1 = self.conv2_1(torch.cat([x2_0, self.up3_0(x3_0)], 1))\n",
        "        \n",
        "        x0_2 = self.conv0_2(torch.cat([x0_1, self.up1_1(x1_1)], 1)) + x0_1\n",
        "        # x1_2 = self.conv1_2(torch.cat([self.attention1(x1_1, x1_0), self.up2_1(x2_1)], 1))\n",
        "        x1_2 = self.conv1_2(torch.cat([x1_0, self.up2_1(x2_1)], 1))\n",
        "        \n",
        "        # x0_3 = self.conv0_3(torch.cat([self.attention0(x0_2, x0_0), self.up1_2(x1_2)], 1))\n",
        "        x0_3 = self.conv0_3(torch.cat([x0_0, self.up1_2(x1_2)], 1))\n",
        "        \n",
        "        contour = self.contour(torch.cat([x0_1, x0_2], dim=1))\n",
        "        output = self.final(x0_3)\n",
        "\n",
        "        return self.sigmoid(output), self.sigmoid(contour)"
      ],
      "execution_count": null,
      "outputs": []
    },
    {
      "cell_type": "code",
      "metadata": {
        "colab": {
          "base_uri": "https://localhost:8080/"
        },
        "id": "nooJXq52mdqX",
        "outputId": "d34fea80-2e90-476b-cb85-6e910b8a918c"
      },
      "source": [
        "#load model\n",
        "model = UNet_plus2(3, 1)\n",
        "model.load_state_dict(torch.load('/content/gdrive/MyDrive/chromos/base_donnees/ChromSeg/region-guided UNet++/model.pth'))\n",
        "model.eval()\n",
        "print(\"model loaded\")"
      ],
      "execution_count": null,
      "outputs": [
        {
          "output_type": "stream",
          "text": [
            "model loaded\n"
          ],
          "name": "stdout"
        }
      ]
    },
    {
      "cell_type": "code",
      "metadata": {
        "colab": {
          "base_uri": "https://localhost:8080/",
          "height": 191
        },
        "id": "Pmmt04p3yXZX",
        "outputId": "c744960e-4a98-4cc5-8d6a-26c35ad0401d"
      },
      "source": [
        "image = Image.open('/content/gdrive/MyDrive/chromos/base_donnees/outputs/roi29.jpg')\n",
        "image.shape()"
      ],
      "execution_count": null,
      "outputs": [
        {
          "output_type": "error",
          "ename": "AttributeError",
          "evalue": "ignored",
          "traceback": [
            "\u001b[0;31m---------------------------------------------------------------------------\u001b[0m",
            "\u001b[0;31mAttributeError\u001b[0m                            Traceback (most recent call last)",
            "\u001b[0;32m<ipython-input-44-0577b0f32c2d>\u001b[0m in \u001b[0;36m<module>\u001b[0;34m()\u001b[0m\n\u001b[1;32m      1\u001b[0m \u001b[0mimage\u001b[0m \u001b[0;34m=\u001b[0m \u001b[0mImage\u001b[0m\u001b[0;34m.\u001b[0m\u001b[0mopen\u001b[0m\u001b[0;34m(\u001b[0m\u001b[0;34m'/content/gdrive/MyDrive/chromos/base_donnees/outputs/roi29.jpg'\u001b[0m\u001b[0;34m)\u001b[0m\u001b[0;34m\u001b[0m\u001b[0;34m\u001b[0m\u001b[0m\n\u001b[0;32m----> 2\u001b[0;31m \u001b[0mimage\u001b[0m\u001b[0;34m.\u001b[0m\u001b[0mshape\u001b[0m\u001b[0;34m(\u001b[0m\u001b[0;34m)\u001b[0m\u001b[0;34m\u001b[0m\u001b[0;34m\u001b[0m\u001b[0m\n\u001b[0m",
            "\u001b[0;31mAttributeError\u001b[0m: 'JpegImageFile' object has no attribute 'shape'"
          ]
        }
      ]
    },
    {
      "cell_type": "code",
      "metadata": {
        "id": "gn2dSHp8RmRv"
      },
      "source": [
        "#make ready test image\n",
        "image = Image.open('/content/gdrive/MyDrive/chromos/base_donnees/ChromSeg/crossing_partition/img/1.png')\n",
        "#image = Image.open('/content/gdrive/MyDrive/chromos/base_donnees/outputs/roi29.jpg')\n",
        "x_transforms = transforms.Compose([\n",
        "    transforms.ToTensor(),\n",
        "    transforms.Normalize([0.5, 0.5, 0.5], [0.5, 0.5, 0.5])\n",
        "])\n",
        "\n",
        "image_test = x_transforms(image)"
      ],
      "execution_count": null,
      "outputs": []
    },
    {
      "cell_type": "code",
      "metadata": {
        "colab": {
          "base_uri": "https://localhost:8080/"
        },
        "id": "eUNhdIipypVj",
        "outputId": "a136931a-d76f-42a0-9e28-48f69cea149a"
      },
      "source": [
        "image_test.shape"
      ],
      "execution_count": null,
      "outputs": [
        {
          "output_type": "execute_result",
          "data": {
            "text/plain": [
              "torch.Size([3, 256, 256])"
            ]
          },
          "metadata": {},
          "execution_count": 55
        }
      ]
    },
    {
      "cell_type": "code",
      "metadata": {
        "id": "-ARlbdgXpwkg",
        "colab": {
          "base_uri": "https://localhost:8080/"
        },
        "outputId": "e6be0324-1d9e-4378-edfd-27377c8567a0"
      },
      "source": [
        "#pred_test = model(image_test[None, ...])"
      ],
      "execution_count": null,
      "outputs": [
        {
          "output_type": "stream",
          "text": [
            "/usr/local/lib/python3.7/dist-packages/torch/nn/functional.py:718: UserWarning: Named tensors and all their associated APIs are an experimental feature and subject to change. Please do not use them for anything important until they are released as stable. (Triggered internally at  /pytorch/c10/core/TensorImpl.h:1156.)\n",
            "  return torch.max_pool2d(input, kernel_size, stride, padding, dilation, ceil_mode)\n"
          ],
          "name": "stderr"
        }
      ]
    },
    {
      "cell_type": "code",
      "metadata": {
        "id": "LppIJ8Gef5yD"
      },
      "source": [
        "IMAGE_PATH = '/content/gdrive/MyDrive/chromos/base_donnees/ChromSeg/crossing_partition/img'\n",
        "OVERLAP_PATH = '/content/gdrive/MyDrive/chromos/base_donnees/ChromSeg/crossing_partition/crossing'\n",
        "OTHER_PATH = '/content/gdrive/MyDrive/chromos/base_donnees/ChromSeg/crossing_partition/chromosome'"
      ],
      "execution_count": null,
      "outputs": []
    },
    {
      "cell_type": "code",
      "metadata": {
        "id": "DQcVx6F_uva3"
      },
      "source": [
        "#predict \n",
        "n = \"coucou\"\n",
        "with torch.no_grad():\n",
        "  y = model(image_test[None, ...])\n",
        "  y_pred_0 = torch.squeeze(y[0]).numpy()\n",
        "  y_pred = np.zeros((256,256))\n",
        "  y_pred[y_pred_0 > 0.5] = 1.0\n",
        "  y_2_0 = torch.squeeze(y[1]).numpy()\n",
        "  y_2 = np.zeros((256,256))\n",
        "  y_2[y_2_0 > 0.5] = 1.0\n",
        "  output1 = np.reshape(y_pred * 255,(256,256))\n",
        "  output2 = np.reshape(y_2 * 255,(256,256))\n",
        "\n",
        "  x_image = torch.squeeze(image_test).numpy()\n",
        "  image = np.dstack((x_image[0,...]*255, x_image[1,...]*255, x_image[2,...]*255))\n",
        "\n",
        "  cv2.imwrite(OVERLAP_PATH + '/' + str(n) + \".png\", output1)\n",
        "\n",
        "  cv2.imwrite(OTHER_PATH + '/' + str(n) + \".png\", output2)\n",
        "  cv2.imwrite(IMAGE_PATH + '/' + str(n) + \".png\", image)"
      ],
      "execution_count": null,
      "outputs": []
    },
    {
      "cell_type": "code",
      "metadata": {
        "colab": {
          "base_uri": "https://localhost:8080/",
          "height": 287
        },
        "id": "ned2whsHuTK-",
        "outputId": "39d4141b-6077-4552-85df-599756293f13"
      },
      "source": [
        "#visualize\n",
        "import matplotlib.pyplot as plt\n",
        "plt.imshow(output2)"
      ],
      "execution_count": null,
      "outputs": [
        {
          "output_type": "execute_result",
          "data": {
            "text/plain": [
              "<matplotlib.image.AxesImage at 0x7f1861087310>"
            ]
          },
          "metadata": {},
          "execution_count": 33
        },
        {
          "output_type": "display_data",
          "data": {
            "image/png": "[encoded data removed]",
            "text/plain": [
              "<Figure size 432x288 with 1 Axes>"
            ]
          },
          "metadata": {
            "needs_background": "light"
          }
        }
      ]
    },
    {
      "cell_type": "code",
      "metadata": {
        "colab": {
          "base_uri": "https://localhost:8080/",
          "height": 287
        },
        "id": "3pJIsyoBZJdc",
        "outputId": "14ab50e7-10cb-4efd-c1d0-01dc633a42df"
      },
      "source": [
        "plt.imshow(output1)"
      ],
      "execution_count": null,
      "outputs": [
        {
          "output_type": "execute_result",
          "data": {
            "text/plain": [
              "<matplotlib.image.AxesImage at 0x7f1860f57a10>"
            ]
          },
          "metadata": {},
          "execution_count": 28
        },
        {
          "output_type": "display_data",
          "data": {
            "image/png": "[encoded data removed]",
            "text/plain": [
              "<Figure size 432x288 with 1 Axes>"
            ]
          },
          "metadata": {
            "needs_background": "light"
          }
        }
      ]
    },
    {
      "cell_type": "code",
      "metadata": {
        "colab": {
          "base_uri": "https://localhost:8080/"
        },
        "id": "06NG-3Pug52a",
        "outputId": "0a4e1739-b210-4aee-f7c5-097783e585ea"
      },
      "source": [
        "ls"
      ],
      "execution_count": null,
      "outputs": [
        {
          "output_type": "stream",
          "text": [
            "\u001b[0m\u001b[01;34mdataset\u001b[0m/              main.py               OVERLAP_PATH0.png       utils.py\n",
            "IMAGE_PATH0.png       model.pth             OVERLAP_PATHcoucou.png\n",
            "IMAGE_PATHcoucou.png  OTHER_PATH0.png       \u001b[01;34m__pycache__\u001b[0m/\n",
            "loss.py               OTHER_PATHcoucou.png  UNet_plus.py\n"
          ],
          "name": "stdout"
        }
      ]
    },
    {
      "cell_type": "markdown",
      "metadata": {
        "id": "7yhg1LHwemXu"
      },
      "source": [
        "## Crossing partitions\n"
      ]
    },
    {
      "cell_type": "code",
      "metadata": {
        "id": "c2y0xQ3BZXlB"
      },
      "source": [
        "#utils.py\n",
        "import cv2\n",
        "from matplotlib import pyplot as plt\n",
        "import numpy as np\n",
        "import copy\n",
        "from skimage import io\n",
        "import math\n",
        "import copy\n",
        "import time\n",
        "import os\n",
        "\n",
        "def adjacent(array, x, y, size = 10):\n",
        "    # 使用这个函数来存储一个像素点的邻近点到一个列表中\n",
        "    adjacent = []\n",
        "    for i in range(-size,size+1):\n",
        "        for j in range(-size,size+1):\n",
        "            if x+i >= 0 and y+j>=0 and x+i < array.shape[0] and y+j < array.shape[1]:\n",
        "                adjacent.append((x+i, y+j))\n",
        "    return adjacent\n",
        "\n",
        "def dilated_adjacent(array, overlapping_x, overlapping_y, size = 15):\n",
        "    global _adj\n",
        "    tmp = np.zeros(array.shape)\n",
        "    tmp[overlapping_x, overlapping_y] = array[overlapping_x, overlapping_y].copy()\n",
        "    \n",
        "    kernel = np.ones((size, size), np.uint8)\n",
        "    tmp = cv2.dilate(tmp, kernel, iterations=1)\n",
        "    tmp[overlapping_x, overlapping_y] -= array[overlapping_x, overlapping_y]\n",
        "    \n",
        "    # 测试用\n",
        "#     _adj.append(tmp)\n",
        "    \n",
        "    xs, ys = np.where(tmp > 0)\n",
        "    ret = []\n",
        "    for x, y in zip(xs, ys):\n",
        "        ret.append((x, y))\n",
        "    return ret\n",
        "    \n",
        "# 两个函数用来计算两个点连成射线后的点集中是否有可以match的区域\n",
        "def line_detect(img, point1, point2, sign):\n",
        "    point1_x, point1_y = point1\n",
        "    point2_x, point2_y = point2\n",
        "    if point1_x != point2_x:\n",
        "        k = float((point1_y - point2_y)/(point1_x - point2_x))\n",
        "        b = ((point1_y - k*point1_x)+(point2_y - k*point2_x))/2\n",
        "        for x in range(img.shape[1]):\n",
        "            y = int(k*x+b)\n",
        "            if y>=0 and y<img.shape[0]:\n",
        "                if img[x,y] == 1 or img[x,y] == -1 or img[x,y] == sign:\n",
        "                    continue\n",
        "                else:\n",
        "                    return img[x,y]\n",
        "                \n",
        "        for y in range(img.shape[0]):\n",
        "            x = int((y-b)/k)\n",
        "            if x>=0 and x<img.shape[1]:\n",
        "                if img[x,y] == 1 or img[x,y] == -1 or img[x,y] == sign:\n",
        "                    continue\n",
        "                else:\n",
        "                    return img[x,y]\n",
        "    else:\n",
        "        x = point1_x\n",
        "        for y in range(img.shape[0]):\n",
        "            if img[x,y] == 1 or img[x,y] == -1 or img[x,y] == sign:\n",
        "                    continue\n",
        "            else:\n",
        "                return img[x,y] \n",
        "    return 0\n",
        "\n",
        "def ray_detect(img, point_start, point_end, sign):\n",
        "    point1_x, point1_y = point_start\n",
        "    point2_x, point2_y = point_end\n",
        "    direction_x = point2_x - point1_x\n",
        "    direction_y = point2_y - point1_y\n",
        "    if point1_x != point2_x:\n",
        "        k = float((point1_y - point2_y)/(point1_x - point2_x))\n",
        "        b = ((point1_y - k*point1_x)+(point2_y - k*point2_x))/2\n",
        "        if direction_x > 0:\n",
        "            for x in range(point2_x, img.shape[1]):\n",
        "                y = int(k*x+b)\n",
        "                if y>=0 and y<img.shape[0]:\n",
        "                    if img[x,y] == 1 or img[x,y] == -1 or img[x,y] == sign:\n",
        "                        continue\n",
        "                    else:\n",
        "                        return int(img[x,y])\n",
        "        if direction_x < 0:\n",
        "            for x in range(0, point2_x):\n",
        "                y = int(k*x+b)\n",
        "                if y>=0 and y<img.shape[0]:\n",
        "                    if img[x,y] == 1 or img[x,y] == -1 or img[x,y] == sign:\n",
        "                        continue\n",
        "                    else:\n",
        "                        return int(img[x,y])\n",
        "        if direction_y > 0: \n",
        "            for y in range(point2_y, img.shape[0]):\n",
        "                x = int((y-b)/k)\n",
        "                if x>=0 and x<img.shape[1]:\n",
        "                    if img[x,y] == 1 or img[x,y] == -1 or img[x,y] == sign:\n",
        "                        continue\n",
        "                    else:\n",
        "                        return int(img[x,y])\n",
        "        if direction_y < 0: \n",
        "            for y in range(0, point2_y):\n",
        "                x = int((y-b)/k)\n",
        "                if x>=0 and x<img.shape[1]:\n",
        "                    if img[x,y] == 1 or img[x,y] == -1 or img[x,y] == sign:\n",
        "                        continue\n",
        "                    else:\n",
        "                        return int(img[x,y])\n",
        "    else:\n",
        "        x = point1_x\n",
        "        for y in range(img.shape[0]):\n",
        "            if img[x,y] == 1 or img[x,y] == -1 or img[x,y] == sign:\n",
        "                continue\n",
        "            else:\n",
        "                return int(img[x,y])\n",
        "    return 0\n",
        "\n",
        "class UnionFind(object):\n",
        "    def __init__(self, classes):\n",
        "        self.__parent = np.concatenate([np.array([0, 1]), classes])\n",
        "    def find(self, x):\n",
        "        if x == self.__parent[x]:\n",
        "            return x\n",
        "        else:\n",
        "            self.__parent[x] = self.find(self.__parent[x])\n",
        "            return self.__parent[x]\n",
        "    \n",
        "    def union(self, x, y):\n",
        "        px, py = self.find(x), self.find(y)\n",
        "        if (px != py):\n",
        "            self.__parent[px] = py\n",
        "\n",
        "def crossing_reconstruct(image, overlapped, non_overlapped):\n",
        "    ### watershed for crossing areas\n",
        "    kernel = np.ones((1,1),np.uint8)\n",
        "    opening_crossing = cv2.morphologyEx(overlapped,cv2.MORPH_OPEN, kernel)\n",
        "    # sure foreground area\n",
        "    sure_fg_crossing = cv2.erode(opening_crossing,kernel,iterations=1)\n",
        "    # sure background area\n",
        "    sure_bg_crossing = cv2.dilate(opening_crossing,kernel,iterations=1)\n",
        "    crossing_edge = cv2.subtract(sure_bg_crossing,sure_fg_crossing)\n",
        "\n",
        "    # Marker labelling\n",
        "    ret, markers = cv2.connectedComponents(sure_fg_crossing)\n",
        "    # Add one to all labels so that sure background is not 0, but 1\n",
        "    markers = markers + 1\n",
        "    # Now, mark the region of unknown with zero\n",
        "    markers[crossing_edge == 1] = 0\n",
        "    markers_crossing = cv2.watershed(image, markers)\n",
        "    \n",
        "    # overlapping_class列表存储crossing有的类别，例如，有两个crossing重叠区域，overlapping_class列表中就有两个元素\n",
        "    overlapping_class = [i for i in range(2, np.max(markers_crossing)+1)]\n",
        "    overlapping_x_class = {}\n",
        "    overlapping_y_class = {}\n",
        "    \n",
        "    # iterate through all markers values\n",
        "    for i in overlapping_class:\n",
        "        overlapping_x_class[i], overlapping_y_class[i] = np.where(markers == i)\n",
        "\n",
        "    # overlapping_center_class是一个字典，存储每个crossing区域的中点坐标\n",
        "    overlapping_center_class = {}\n",
        "    for i in overlapping_class:\n",
        "        overlapping_center_class[i] = (int(np.mean(overlapping_x_class[i])),int(np.mean(overlapping_y_class[i])))\n",
        "\n",
        "    # overlapped_areas是crossing区域和相邻size = k的区域的点集，k可以在adjacent函数中调整\n",
        "    overlapped_areas = {}\n",
        "    for i in overlapping_class:\n",
        "        overlapped_areas[i] = dilated_adjacent(overlapped, overlapping_x_class[i], overlapping_y_class[i],\n",
        "                                   size = 9)\n",
        "#         radius = int(np.sqrt(len(markers_crossing[markers_crossing == i]) / 2.0))\n",
        "#         overlapped_areas[i] = adjacent(overlapped, overlapping_center_class[i][0], overlapping_center_class[i][1],\n",
        "#                                        size = radius)\n",
        "    \n",
        "    # 对non-overlapping的部分watershed处理\n",
        "    ### noise removal\n",
        "    kernel = np.ones((3,3),np.uint8)\n",
        "    opening = cv2.morphologyEx(non_overlapped, cv2.MORPH_OPEN, kernel)\n",
        "\n",
        "    # sure foreground area\n",
        "    sure_fg = cv2.erode(opening,kernel,iterations=1)\n",
        "    # sure background area\n",
        "    sure_bg = cv2.dilate(opening,kernel,iterations=2)\n",
        "    unknown = cv2.subtract(sure_bg,sure_fg)\n",
        "    sure_fg = np.uint8(sure_fg)\n",
        "\n",
        "    # Marker labelling\n",
        "    hole = sure_fg.copy()\n",
        "    cv2.floodFill(hole,None,(0,0),255) # 找到洞孔\n",
        "    hole = cv2.bitwise_not(hole)\n",
        "    ret, markers = cv2.connectedComponents(hole)\n",
        "\n",
        "    # Add one to all labels so that sure background is not 0, but 1\n",
        "    markers = markers + 1\n",
        "    # Now, mark the region of unknown with zero\n",
        "    markers[unknown == 1] = 0\n",
        "    # watershed\n",
        "    markers = cv2.watershed(image, markers)\n",
        "    class_num = np.max(markers)\n",
        "    non_overlapping_class = np.arange(2, class_num + 1)\n",
        "\n",
        "    # overlapping_match_nonoverlapping是一个字典，用来存储和crossing区域相邻的non-overlapping区域的编号标记\n",
        "    overlapping_match_nonoverlapping = {}\n",
        "    for i in overlapping_class:\n",
        "        overlapping_match_nonoverlapping[i] = set()\n",
        "        for j in overlapped_areas[i]:\n",
        "            if markers[j[0], j[1]] > 1:\n",
        "                overlapping_match_nonoverlapping[i].add(markers[j[0], j[1]])  \n",
        "\n",
        "    # overlapping_match_nonoverlapping_center用来存储和crossing区域相邻的non-overlapping子区域的区域中心坐标\n",
        "    overlapping_match_nonoverlapping_center = {}\n",
        "    for i in overlapping_match_nonoverlapping:\n",
        "        adj_x, adj_y = zip(*overlapped_areas[i])\n",
        "        adj_x, adj_y = np.array(adj_x), np.array(adj_y)\n",
        "\n",
        "        overlapping_match_nonoverlapping_center[i] = {}\n",
        "        for k in overlapping_match_nonoverlapping[i]:\n",
        "            k_adj_x = adj_x[np.where(markers[adj_x, adj_y] == k)[0]]\n",
        "            k_adj_y = adj_y[np.where(markers[adj_x, adj_y] == k)[0]]\n",
        "            c = (int(np.mean(k_adj_x)), int(np.mean(k_adj_y)))\n",
        "    #             temp_x, temp_y = np.where(markers == k)\n",
        "    #             c = (int(np.mean(temp_x)),int(np.mean(temp_y)))\n",
        "            overlapping_match_nonoverlapping_center[i][k] = c\n",
        "\n",
        "    # UnionFind for combination\n",
        "    uf = UnionFind(non_overlapping_class)\n",
        "\n",
        "    output = copy.deepcopy(markers)\n",
        "    for i in overlapping_match_nonoverlapping:\n",
        "        temp_area = np.ones(markers.shape)\n",
        "        for (x, y) in overlapped_areas[i]:\n",
        "            temp_area[x, y] = markers[x, y]\n",
        "\n",
        "        # Ray detect of non-overlapping part in a cycle\n",
        "        for j in overlapping_match_nonoverlapping_center[i]:\n",
        "            tag = ray_detect(temp_area, overlapping_match_nonoverlapping_center[i][j], overlapping_center_class[i], j)\n",
        "            if tag in overlapping_match_nonoverlapping_center[i]:\n",
        "                uf.union(tag, j)\n",
        "\n",
        "    chromosome = {}  # dictionary key is non-overlap class for chromosome, value is overlapping region class\n",
        "\n",
        "    for tag in non_overlapping_class:\n",
        "        output[output == tag] = uf.find(tag)\n",
        "        chromosome[uf.find(tag)] = []\n",
        "\n",
        "    for i in overlapping_class:\n",
        "        for j in non_overlapping_class:\n",
        "            if j in overlapping_match_nonoverlapping[i] and i not in chromosome[uf.find(j)]:\n",
        "                chromosome[uf.find(j)].append(i)  \n",
        "\n",
        "    cp_image = []\n",
        "    for i in chromosome:\n",
        "        mask = np.zeros(output.shape)\n",
        "        mask[(output == i)] = 1\n",
        "        for j in chromosome[i]:\n",
        "            mask[markers_crossing == j] = 1\n",
        "        cp_image.append(mask)\n",
        "        \n",
        "    return cp_image"
      ],
      "execution_count": null,
      "outputs": []
    },
    {
      "cell_type": "code",
      "metadata": {
        "id": "ixLs5-CBewWc"
      },
      "source": [
        "import cv2\n",
        "from matplotlib import pyplot as plt\n",
        "import numpy as np\n",
        "import copy\n",
        "from skimage import io\n",
        "import math\n",
        "import copy\n",
        "import time\n",
        "from utils import *\n",
        "\n",
        "IMG_SIZE = 256\n",
        "\n",
        "OUTPUT_PATH = '/content/gdrive/MyDrive/chromos/base_donnees/ChromSeg/crossing_partition/output'\n",
        "FILE_NUM = 2\n",
        "\n",
        "if __name__ == \"__main__\":\n",
        "    for i in range(1, FILE_NUM + 1):\n",
        "        image = cv2.imread(os.path.join(IMAGE_PATH, str(i)+'.png'))\n",
        "        overlapped = cv2.imread(os.path.join(OVERLAP_PATH, str(i)+'.png'), 0)\n",
        "        foreground = cv2.imread(os.path.join(OTHER_PATH, str(i)+'.png'), 0)\n",
        "        non_overlapped = np.zeros(overlapped.shape)\n",
        "        # kernel = np.ones((1,1),np.uint8)\n",
        "        # overlapped = cv2.dilate(overlapped,kernel,iterations=1)\n",
        "        overlapped[overlapped == 255] = 1\n",
        "        non_overlapped[(overlapped == 0) & (foreground == 255)] = 1   # calculate non-overlapping mask \n",
        "\n",
        "        output = crossing_reconstruct(image, overlapped, non_overlapped)\n",
        "\n",
        "        output_path = os.path.join(OUTPUT_PATH, str(i))\n",
        "        if not os.path.exists(output_path):\n",
        "            os.mkdir(output_path)\n",
        "\n",
        "        cv2.imwrite(os.path.join(output_path, \"crossing_\" + str(i)+\".png\"), image)\n",
        "\n",
        "        try:\n",
        "            gray = cv2.cvtColor(image,cv2.COLOR_BGR2GRAY)\n",
        "            num = 0\n",
        "            for mask in output:\n",
        "                img = copy.deepcopy(gray)\n",
        "                new_mask = np.zeros((IMG_SIZE, IMG_SIZE))\n",
        "                for i in range(0, IMG_SIZE):\n",
        "                    for j in range(0, IMG_SIZE):\n",
        "                        if(mask[i,j] == 1):\n",
        "                            for x in range(-1,2):\n",
        "                                for y in range(-1,2):\n",
        "                                    try:\n",
        "                                        new_mask[i+x,j+y] = 1\n",
        "                                    except:\n",
        "                                        continue\n",
        "\n",
        "                img[(new_mask == 0)] = 255\n",
        "                cv2.imwrite(os.path.join(output_path, str(num)+\".png\"), img)\n",
        "                num += 1\n",
        "        except:\n",
        "            raise \"error(fail to partition)\""
      ],
      "execution_count": null,
      "outputs": []
    }
  ]
}